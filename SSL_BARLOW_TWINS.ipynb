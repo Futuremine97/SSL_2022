{
  "nbformat": 4,
  "nbformat_minor": 0,
  "metadata": {
    "colab": {
      "provenance": [],
      "collapsed_sections": [],
      "mount_file_id": "1B73e7TESGOu5BGlkTyoDBjjbyC6CuXu8",
      "authorship_tag": "ABX9TyPLNNGem8GX26NZcNY5GLbB",
      "include_colab_link": true
    },
    "kernelspec": {
      "name": "python3",
      "display_name": "Python 3"
    },
    "language_info": {
      "name": "python"
    },
    "accelerator": "GPU"
  },
  "cells": [
    {
      "cell_type": "markdown",
      "metadata": {
        "id": "view-in-github",
        "colab_type": "text"
      },
      "source": [
        "<a href=\"https://colab.research.google.com/github/Futuremine97/SSL_2022/blob/main/SSL_BARLOW_TWINS.ipynb\" target=\"_parent\"><img src=\"https://colab.research.google.com/assets/colab-badge.svg\" alt=\"Open In Colab\"/></a>"
      ]
    },
    {
      "cell_type": "code",
      "execution_count": 38,
      "metadata": {
        "colab": {
          "base_uri": "https://localhost:8080/"
        },
        "id": "astlxpi83Eml",
        "outputId": "a428da1f-a3dc-4de4-cd49-72afa7100d4e"
      },
      "outputs": [
        {
          "output_type": "stream",
          "name": "stdout",
          "text": [
            "Drive already mounted at /content/drive; to attempt to forcibly remount, call drive.mount(\"/content/drive\", force_remount=True).\n"
          ]
        }
      ],
      "source": [
        "from google.colab import drive\n",
        "drive.mount('/content/drive')"
      ]
    },
    {
      "cell_type": "code",
      "source": [
        "cd /content/drive/MyDrive/sample_data"
      ],
      "metadata": {
        "colab": {
          "base_uri": "https://localhost:8080/"
        },
        "id": "d3kdC74f4xE6",
        "outputId": "32de1e11-694b-44bd-89b6-09a7c94608b8"
      },
      "execution_count": 39,
      "outputs": [
        {
          "output_type": "stream",
          "name": "stdout",
          "text": [
            "/content/drive/MyDrive/sample_data\n"
          ]
        }
      ]
    },
    {
      "cell_type": "markdown",
      "source": [
        "1. 먼저 csv 를 분해한다."
      ],
      "metadata": {
        "id": "UT84rgB6FZmz"
      }
    },
    {
      "cell_type": "code",
      "source": [
        "!python /content/drive/MyDrive/sample_data/8x8data/split_csv_to_img.py"
      ],
      "metadata": {
        "id": "_ALzDr9d96jn"
      },
      "execution_count": 33,
      "outputs": []
    },
    {
      "cell_type": "markdown",
      "source": [
        "2. resnet model run "
      ],
      "metadata": {
        "id": "c4dN5PYHFgR5"
      }
    },
    {
      "cell_type": "code",
      "source": [
        "!python /content/drive/MyDrive/sample_data/ResNet18.py"
      ],
      "metadata": {
        "colab": {
          "base_uri": "https://localhost:8080/"
        },
        "id": "ViF_aXyhFjtG",
        "outputId": "e606fda9-c516-4694-ecf5-15f4c90bcd10"
      },
      "execution_count": 40,
      "outputs": [
        {
          "output_type": "stream",
          "name": "stdout",
          "text": [
            "Traceback (most recent call last):\n",
            "  File \"/content/drive/MyDrive/sample_data/ResNet18.py\", line 257, in <module>\n",
            "    train_epochs=15,\n",
            "  File \"/content/drive/MyDrive/sample_data/ResNet18.py\", line 124, in __init__\n",
            "    self.train_ds, batch_size=self.batch_size, shuffle=True, pin_memory=True\n",
            "  File \"/usr/local/lib/python3.7/dist-packages/torch/utils/data/dataloader.py\", line 353, in __init__\n",
            "    sampler = RandomSampler(dataset, generator=generator)  # type: ignore[arg-type]\n",
            "  File \"/usr/local/lib/python3.7/dist-packages/torch/utils/data/sampler.py\", line 108, in __init__\n",
            "    \"value, but got num_samples={}\".format(self.num_samples))\n",
            "ValueError: num_samples should be a positive integer value, but got num_samples=0\n"
          ]
        }
      ]
    },
    {
      "cell_type": "code",
      "source": [
        "cd /content/drive/MyDrive/sample_data"
      ],
      "metadata": {
        "colab": {
          "base_uri": "https://localhost:8080/"
        },
        "id": "XoPwz47LH11u",
        "outputId": "4e28b85d-7e7b-4a7b-c995-254004a45a42"
      },
      "execution_count": 35,
      "outputs": [
        {
          "output_type": "stream",
          "name": "stdout",
          "text": [
            "/content/drive/MyDrive/sample_data\n"
          ]
        }
      ]
    },
    {
      "cell_type": "code",
      "source": [
        "!python /content/drive/MyDrive/sample_data/denoising_diffusion_pytorch.py"
      ],
      "metadata": {
        "colab": {
          "base_uri": "https://localhost:8080/"
        },
        "id": "0kURyCX55f18",
        "outputId": "89a3141a-82c5-4c7c-dd00-b3e4f6bff844"
      },
      "execution_count": 36,
      "outputs": [
        {
          "output_type": "stream",
          "name": "stdout",
          "text": [
            "1.12.1+cu113\n",
            "11.3\n",
            "<module 'torch.cuda.amp' from '/usr/local/lib/python3.7/dist-packages/torch/cuda/amp/__init__.py'>\n"
          ]
        }
      ]
    },
    {
      "cell_type": "code",
      "source": [
        "!python /content/drive/MyDrive/sample_data/train_model.py"
      ],
      "metadata": {
        "colab": {
          "base_uri": "https://localhost:8080/"
        },
        "id": "5Z7yGkYS-4j_",
        "outputId": "a44b28ee-f78f-4fc8-8517-f723b2af638b"
      },
      "execution_count": 37,
      "outputs": [
        {
          "output_type": "stream",
          "name": "stdout",
          "text": [
            "1.12.1+cu113\n",
            "11.3\n",
            "<module 'torch.cuda.amp' from '/usr/local/lib/python3.7/dist-packages/torch/cuda/amp/__init__.py'>\n",
            "Traceback (most recent call last):\n",
            "  File \"/content/drive/MyDrive/sample_data/train_model.py\", line 32, in <module>\n",
            "    run_exp(\"Moon\")\n",
            "  File \"/content/drive/MyDrive/sample_data/train_model.py\", line 26, in run_exp\n",
            "    results_folder=f\"{PATH}\\8x8data\\{name}\\\\results\",\n",
            "  File \"/content/drive/MyDrive/sample_data/denoising_diffusion_pytorch.py\", line 669, in __init__\n",
            "    self.ds, batch_size=train_batch_size, shuffle=True, pin_memory=True\n",
            "  File \"/usr/local/lib/python3.7/dist-packages/torch/utils/data/dataloader.py\", line 353, in __init__\n",
            "    sampler = RandomSampler(dataset, generator=generator)  # type: ignore[arg-type]\n",
            "  File \"/usr/local/lib/python3.7/dist-packages/torch/utils/data/sampler.py\", line 108, in __init__\n",
            "    \"value, but got num_samples={}\".format(self.num_samples))\n",
            "ValueError: num_samples should be a positive integer value, but got num_samples=0\n"
          ]
        }
      ]
    },
    {
      "cell_type": "code",
      "source": [
        "!python /content/drive/MyDrive/sample_data/generate_samples.py"
      ],
      "metadata": {
        "colab": {
          "base_uri": "https://localhost:8080/"
        },
        "id": "B1VMNWg96s3u",
        "outputId": "62037cad-6312-43c3-c354-187a59c10486"
      },
      "execution_count": 10,
      "outputs": [
        {
          "output_type": "stream",
          "name": "stdout",
          "text": [
            "1.12.1+cu113\n",
            "11.3\n",
            "<module 'torch.cuda.amp' from '/usr/local/lib/python3.7/dist-packages/torch/cuda/amp/__init__.py'>\n",
            "Traceback (most recent call last):\n",
            "  File \"/content/drive/MyDrive/sample_data/generate_samples.py\", line 82, in <module>\n",
            "    gen_sample_from_model(\"I\", 100, as_csv=True, unnormalize=False)\n",
            "  File \"/content/drive/MyDrive/sample_data/generate_samples.py\", line 33, in gen_sample_from_model\n",
            "    results_folder=f\"{PATH}\\\\results\",\n",
            "  File \"/content/drive/MyDrive/sample_data/denoising_diffusion_pytorch.py\", line 669, in __init__\n",
            "    self.ds, batch_size=train_batch_size, shuffle=True, pin_memory=True\n",
            "  File \"/usr/local/lib/python3.7/dist-packages/torch/utils/data/dataloader.py\", line 353, in __init__\n",
            "    sampler = RandomSampler(dataset, generator=generator)  # type: ignore[arg-type]\n",
            "  File \"/usr/local/lib/python3.7/dist-packages/torch/utils/data/sampler.py\", line 108, in __init__\n",
            "    \"value, but got num_samples={}\".format(self.num_samples))\n",
            "ValueError: num_samples should be a positive integer value, but got num_samples=0\n"
          ]
        }
      ]
    },
    {
      "cell_type": "code",
      "source": [
        "!pip3 install einops\n"
      ],
      "metadata": {
        "colab": {
          "base_uri": "https://localhost:8080/"
        },
        "id": "0nyFXQO05_G_",
        "outputId": "ef4e77c9-f27c-450f-ec5a-de5473d878cd"
      },
      "execution_count": 2,
      "outputs": [
        {
          "output_type": "stream",
          "name": "stdout",
          "text": [
            "Looking in indexes: https://pypi.org/simple, https://us-python.pkg.dev/colab-wheels/public/simple/\n",
            "Collecting einops\n",
            "  Downloading einops-0.4.1-py3-none-any.whl (28 kB)\n",
            "Installing collected packages: einops\n",
            "Successfully installed einops-0.4.1\n"
          ]
        }
      ]
    },
    {
      "cell_type": "code",
      "source": [
        "!conda install einops"
      ],
      "metadata": {
        "colab": {
          "base_uri": "https://localhost:8080/"
        },
        "id": "eFzB2y-r6FMK",
        "outputId": "f1ec24e3-acdd-447b-f661-b61d74d51e34"
      },
      "execution_count": 9,
      "outputs": [
        {
          "output_type": "stream",
          "name": "stdout",
          "text": [
            "/bin/bash: conda: command not found\n"
          ]
        }
      ]
    }
  ]
}